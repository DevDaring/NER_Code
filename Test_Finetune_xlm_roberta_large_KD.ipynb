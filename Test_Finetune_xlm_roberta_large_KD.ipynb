{
  "cells": [
    {
      "cell_type": "code",
      "execution_count": null,
      "metadata": {
        "colab": {
          "base_uri": "https://localhost:8080/"
        },
        "id": "BSfSFgXkBIig",
        "outputId": "c736b455-af51-42e3-c108-5b057a96945c"
      },
      "outputs": [
        {
          "name": "stdout",
          "output_type": "stream",
          "text": [
            "Mounted at /content/drive\n"
          ]
        }
      ],
      "source": [
        "import pandas as pd\n",
        "import torch\n",
        "from transformers import XLMRobertaTokenizerFast, XLMRobertaForTokenClassification\n",
        "from tqdm import tqdm\n",
        "from sklearn.metrics import accuracy_score, precision_recall_fscore_support\n",
        "import numpy as np\n",
        "from huggingface_hub import HfFolder\n",
        "from google.colab import drive\n",
        "drive.mount('/content/drive')"
      ]
    },
    {
      "cell_type": "code",
      "execution_count": null,
      "metadata": {
        "id": "KYilKPzgBj9s"
      },
      "outputs": [],
      "source": [
        "# Set your HuggingFace token\n",
        "HF_TOKEN = \"secret\"  # Replace with your token\n",
        "HfFolder.save_token(HF_TOKEN)\n",
        "from huggingface_hub import login\n",
        "\n",
        "tag_to_id = {\n",
        "    'B-geo': 0, 'O': 1, 'B-gpe': 2, 'B-per': 3, 'I-per': 4, 'B-tim': 5,\n",
        "    'B-org': 6, 'I-org': 7, 'B-art': 8, 'I-art': 9, 'I-tim': 10,\n",
        "    'B-eve': 11, 'I-eve': 12, 'I-geo': 13, 'I-gpe': 14, 'B-nat': 15, 'I-nat': 16\n",
        "}\n",
        "id_to_tag = {v: k for k, v in tag_to_id.items()}\n",
        "\n",
        "# Login with the token\n",
        "login(token=\"secret\")"
      ]
    },
    {
      "cell_type": "code",
      "execution_count": null,
      "metadata": {
        "id": "zamEcGX6BVEU"
      },
      "outputs": [],
      "source": [
        "def test_model(test_file, result_file, metrics_file):\n",
        "    model_name = \"Debk/Ben_NER_xlm-roberta-large\"\n",
        "    tokenizer = XLMRobertaTokenizerFast.from_pretrained(model_name)\n",
        "    model = XLMRobertaForTokenClassification.from_pretrained(model_name)\n",
        "    device = torch.device('cuda' if torch.cuda.is_available() else 'cpu')\n",
        "    model.to(device)\n",
        "\n",
        "    df = pd.read_csv(test_file)\n",
        "    sentences = df.groupby('Sentence #')['Word'].apply(list).values\n",
        "    true_tags = df.groupby('Sentence #')['Tag'].apply(list).values\n",
        "\n",
        "    model.eval()\n",
        "    all_predictions = []\n",
        "\n",
        "    with torch.no_grad():\n",
        "        for words in tqdm(sentences, desc=\"Predicting\"):\n",
        "            encoding = tokenizer(words,\n",
        "                               is_split_into_words=True,\n",
        "                               return_tensors=\"pt\",\n",
        "                               padding=True)\n",
        "            inputs = {k: v.to(device) for k, v in encoding.items()}\n",
        "\n",
        "            outputs = model(**inputs)\n",
        "            word_ids = encoding.word_ids(0)  # Get word_ids for first sequence\n",
        "\n",
        "            predictions = []\n",
        "            prev_word_idx = None\n",
        "            for idx, word_idx in enumerate(word_ids):\n",
        "                if word_idx != prev_word_idx and word_idx is not None:\n",
        "                    pred_id = outputs.logits[0, idx].argmax().item()\n",
        "                    predictions.append(id_to_tag[pred_id])\n",
        "                prev_word_idx = word_idx\n",
        "\n",
        "            all_predictions.extend(predictions[:len(words)])\n",
        "\n",
        "    df['Pred_Tag'] = all_predictions\n",
        "    df.to_csv(result_file, index=False)\n",
        "\n",
        "    true_tags_flat = [tag for tags in true_tags for tag in tags]\n",
        "    precision_macro, recall_macro, f1_macro, _ = precision_recall_fscore_support(\n",
        "        true_tags_flat, all_predictions, average='macro'\n",
        "    )\n",
        "    accuracy = accuracy_score(true_tags_flat, all_predictions)\n",
        "\n",
        "    with open(metrics_file, 'w') as f:\n",
        "        f.write(f\"Model: {model_name}\\n\")\n",
        "        f.write(f\"Number of sentences: {len(sentences)}\\n\")\n",
        "        f.write(f\"Accuracy: {accuracy:.4f}\\n\")\n",
        "        f.write(f\"Precision (Macro): {precision_macro:.4f}\\n\")\n",
        "        f.write(f\"Recall (Macro): {recall_macro:.4f}\\n\")\n",
        "        f.write(f\"F1 Score (Macro): {f1_macro:.4f}\\n\")"
      ]
    },
    {
      "cell_type": "code",
      "execution_count": null,
      "metadata": {
        "colab": {
          "base_uri": "https://localhost:8080/"
        },
        "id": "LUlHbEbvB1ip",
        "outputId": "f05b51b4-e677-4de6-f58a-075d21ca8d3d"
      },
      "outputs": [
        {
          "name": "stderr",
          "output_type": "stream",
          "text": [
            "Predicting: 100%|██████████| 4429/4429 [01:14<00:00, 59.57it/s]\n",
            "/usr/local/lib/python3.10/dist-packages/sklearn/metrics/_classification.py:1565: UndefinedMetricWarning: Precision is ill-defined and being set to 0.0 in labels with no predicted samples. Use `zero_division` parameter to control this behavior.\n",
            "  _warn_prf(average, modifier, f\"{metric.capitalize()} is\", len(result))\n"
          ]
        }
      ],
      "source": [
        "test_model(\n",
        "    '/content/drive/MyDrive/NER_Dataset/b-ner-test.csv',\n",
        "    '/content/drive/MyDrive/NER_Dataset/Result-b-ner-test.csv',\n",
        "    '/content/drive/MyDrive/NER_Dataset/Result-b-ner-test.txt'\n",
        ")\n"
      ]
    },
    {
      "cell_type": "code",
      "execution_count": null,
      "metadata": {
        "id": "x4gI0IUyB-Kz"
      },
      "outputs": [],
      "source": []
    }
  ],
  "metadata": {
    "accelerator": "GPU",
    "colab": {
      "gpuType": "A100",
      "machine_shape": "hm",
      "provenance": []
    },
    "kernelspec": {
      "display_name": "Python 3",
      "name": "python3"
    },
    "language_info": {
      "name": "python"
    }
  },
  "nbformat": 4,
  "nbformat_minor": 0
}
